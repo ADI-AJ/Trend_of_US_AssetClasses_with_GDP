{
 "cells": [
  {
   "cell_type": "code",
   "execution_count": 7,
   "metadata": {},
   "outputs": [],
   "source": [
    "import pandas as pd\n",
    "import json"
   ]
  },
  {
   "cell_type": "code",
   "execution_count": 8,
   "metadata": {},
   "outputs": [],
   "source": [
    "# Reading JSON file and creating dataframe with it\n",
    "data = json.load(open(r'C:\\Users\\HP\\Desktop\\Useful\\Projects\\DE\\Influence on Stock Market\\Relations-of-Various-Factors-with-American-Stock-Market\\USA_stock_market\\stock_data.json'))\n",
    "df = pd.DataFrame(data['values'])"
   ]
  },
  {
   "cell_type": "code",
   "execution_count": null,
   "metadata": {},
   "outputs": [],
   "source": [
    "# Creating new dataframe with only required columns such as datetime and closing price \n",
    "req_df = df[['datetime','close']]\n",
    "req_df['datetime'],req_df['close'] = pd.to_datetime(req_df['datetime']), req_df['close'].astype(float).astype(int) # Assigning the correct datatype\n",
    "req_df['close'] = req_df['close'].round(2) # truncating to 2 decimal places"
   ]
  },
  {
   "cell_type": "code",
   "execution_count": 22,
   "metadata": {},
   "outputs": [],
   "source": [
    "# Saving the dataframe as csv file in the same folder\n",
    "req_df.to_csv(r'C:\\Users\\HP\\Desktop\\Useful\\Projects\\DE\\Influence on Stock Market\\Relations-of-Various-Factors-with-American-Stock-Market\\USA_stock_market\\transformed_stock_data.csv',index=False)"
   ]
  }
 ],
 "metadata": {
  "kernelspec": {
   "display_name": "Python 3",
   "language": "python",
   "name": "python3"
  },
  "language_info": {
   "codemirror_mode": {
    "name": "ipython",
    "version": 3
   },
   "file_extension": ".py",
   "mimetype": "text/x-python",
   "name": "python",
   "nbconvert_exporter": "python",
   "pygments_lexer": "ipython3",
   "version": "3.10.2"
  }
 },
 "nbformat": 4,
 "nbformat_minor": 2
}
