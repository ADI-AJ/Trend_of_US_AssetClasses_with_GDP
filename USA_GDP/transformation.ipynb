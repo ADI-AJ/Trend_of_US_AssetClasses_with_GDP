{
 "cells": [
  {
   "cell_type": "code",
   "execution_count": 42,
   "metadata": {},
   "outputs": [],
   "source": [
    "import pandas as pd"
   ]
  },
  {
   "cell_type": "code",
   "execution_count": 43,
   "metadata": {},
   "outputs": [],
   "source": [
    "# Creating dataframe from the CSV file\n",
    "df = pd.read_csv(r'C:\\Users\\HP\\Desktop\\Useful\\Projects\\DE\\Influence on Stock Market\\Relations-of-Various-Factors-with-American-Stock-Market\\USA_GDP\\GDP_data.csv',header=None)"
   ]
  },
  {
   "cell_type": "code",
   "execution_count": 44,
   "metadata": {},
   "outputs": [],
   "source": [
    "# Creating new dataframe with the required columns and records\n",
    "req_df = df.iloc[:2,4:].transpose()"
   ]
  },
  {
   "cell_type": "code",
   "execution_count": 45,
   "metadata": {},
   "outputs": [],
   "source": [
    "# Renaming columns\n",
    "req_df.rename(columns = {0:'Year',1:'USD'}, inplace=True)\n",
    "\n",
    "# Cleaning the year column, has extra unnecessary information like [YR****]\n",
    "req_df['Year'] = req_df['Year'].str[0:4]\n",
    "\n",
    "# Convert datatype of USD from object(string) to int\n",
    "req_df['USD'] = pd.to_numeric(req_df['USD'])\n",
    "\n",
    "# Creating additional column to get normalized stock price (min-max scaling)\n",
    "req_df['gdp_normalized'] = (req_df['USD']-req_df['USD'].min())/(req_df['USD'].max()-req_df['USD'].min())"
   ]
  },
  {
   "cell_type": "code",
   "execution_count": 46,
   "metadata": {},
   "outputs": [],
   "source": [
    "# Saving the transformed datframe as CSV file\n",
    "req_df.to_csv(r'C:\\Users\\HP\\Desktop\\Useful\\Projects\\DE\\Influence on Stock Market\\Relations-of-Various-Factors-with-American-Stock-Market\\USA_GDP\\tranformed_GDP_data.csv',index=False)"
   ]
  },
  {
   "cell_type": "code",
   "execution_count": 48,
   "metadata": {},
   "outputs": [
    {
     "data": {
      "text/html": [
       "<div>\n",
       "<style scoped>\n",
       "    .dataframe tbody tr th:only-of-type {\n",
       "        vertical-align: middle;\n",
       "    }\n",
       "\n",
       "    .dataframe tbody tr th {\n",
       "        vertical-align: top;\n",
       "    }\n",
       "\n",
       "    .dataframe thead th {\n",
       "        text-align: right;\n",
       "    }\n",
       "</style>\n",
       "<table border=\"1\" class=\"dataframe\">\n",
       "  <thead>\n",
       "    <tr style=\"text-align: right;\">\n",
       "      <th></th>\n",
       "      <th>Year</th>\n",
       "      <th>USD</th>\n",
       "      <th>gdp_normalized</th>\n",
       "    </tr>\n",
       "  </thead>\n",
       "  <tbody>\n",
       "    <tr>\n",
       "      <th>4</th>\n",
       "      <td>1990</td>\n",
       "      <td>5963144000000</td>\n",
       "      <td>0.000000</td>\n",
       "    </tr>\n",
       "    <tr>\n",
       "      <th>5</th>\n",
       "      <td>1991</td>\n",
       "      <td>6158129000000</td>\n",
       "      <td>0.009999</td>\n",
       "    </tr>\n",
       "    <tr>\n",
       "      <th>6</th>\n",
       "      <td>1992</td>\n",
       "      <td>6520327000000</td>\n",
       "      <td>0.028574</td>\n",
       "    </tr>\n",
       "    <tr>\n",
       "      <th>7</th>\n",
       "      <td>1993</td>\n",
       "      <td>6858559000000</td>\n",
       "      <td>0.045920</td>\n",
       "    </tr>\n",
       "    <tr>\n",
       "      <th>8</th>\n",
       "      <td>1994</td>\n",
       "      <td>7287236000000</td>\n",
       "      <td>0.067904</td>\n",
       "    </tr>\n",
       "  </tbody>\n",
       "</table>\n",
       "</div>"
      ],
      "text/plain": [
       "   Year            USD  gdp_normalized\n",
       "4  1990  5963144000000        0.000000\n",
       "5  1991  6158129000000        0.009999\n",
       "6  1992  6520327000000        0.028574\n",
       "7  1993  6858559000000        0.045920\n",
       "8  1994  7287236000000        0.067904"
      ]
     },
     "execution_count": 48,
     "metadata": {},
     "output_type": "execute_result"
    }
   ],
   "source": [
    "req_df.head()"
   ]
  },
  {
   "cell_type": "code",
   "execution_count": null,
   "metadata": {},
   "outputs": [],
   "source": []
  }
 ],
 "metadata": {
  "kernelspec": {
   "display_name": "Python 3",
   "language": "python",
   "name": "python3"
  },
  "language_info": {
   "codemirror_mode": {
    "name": "ipython",
    "version": 3
   },
   "file_extension": ".py",
   "mimetype": "text/x-python",
   "name": "python",
   "nbconvert_exporter": "python",
   "pygments_lexer": "ipython3",
   "version": "3.10.2"
  }
 },
 "nbformat": 4,
 "nbformat_minor": 2
}
